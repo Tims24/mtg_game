{
 "cells": [
  {
   "cell_type": "code",
   "execution_count": 1,
   "metadata": {
    "_cell_guid": "b1076dfc-b9ad-4769-8c92-a6c4dae69d19",
    "_uuid": "8f2839f25d086af736a60e9eeb907d3b93b6e0e5",
    "execution": {
     "iopub.execute_input": "2022-06-04T13:38:24.638090Z",
     "iopub.status.busy": "2022-06-04T13:38:24.637572Z",
     "iopub.status.idle": "2022-06-04T13:38:24.653327Z",
     "shell.execute_reply": "2022-06-04T13:38:24.652371Z",
     "shell.execute_reply.started": "2022-06-04T13:38:24.638051Z"
    }
   },
   "outputs": [],
   "source": [
    "import numpy as np # linear algebra\n",
    "import pandas as pd # data processing, CSV file I/O (e.g. pd.read_csv)\n",
    "import seaborn as sns\n",
    "import matplotlib.pyplot as plt\n",
    "import re"
   ]
  },
  {
   "cell_type": "code",
   "execution_count": 2,
   "metadata": {
    "execution": {
     "iopub.execute_input": "2022-06-04T12:19:55.687986Z",
     "iopub.status.busy": "2022-06-04T12:19:55.687410Z",
     "iopub.status.idle": "2022-06-04T12:19:55.695556Z",
     "shell.execute_reply": "2022-06-04T12:19:55.694037Z",
     "shell.execute_reply.started": "2022-06-04T12:19:55.687935Z"
    }
   },
   "outputs": [],
   "source": [
    "from pylab import rcParams\n",
    "import warnings\n",
    "\n",
    "warnings.simplefilter(\"ignore\")\n",
    "rcParams[\"figure.figsize\"] = 10, 5\n",
    "sns.set()"
   ]
  },
  {
   "cell_type": "code",
   "execution_count": 3,
   "metadata": {
    "execution": {
     "iopub.execute_input": "2022-06-04T11:23:22.336655Z",
     "iopub.status.busy": "2022-06-04T11:23:22.336226Z",
     "iopub.status.idle": "2022-06-04T11:23:25.919336Z",
     "shell.execute_reply": "2022-06-04T11:23:25.917868Z",
     "shell.execute_reply.started": "2022-06-04T11:23:22.336619Z"
    }
   },
   "outputs": [],
   "source": [
    "df = pd.read_csv('all_mtg_cards.csv')"
   ]
  },
  {
   "cell_type": "code",
   "execution_count": 4,
   "metadata": {
    "execution": {
     "iopub.execute_input": "2022-06-04T11:14:32.184064Z",
     "iopub.status.busy": "2022-06-04T11:14:32.183588Z",
     "iopub.status.idle": "2022-06-04T11:14:32.223010Z",
     "shell.execute_reply": "2022-06-04T11:14:32.222180Z",
     "shell.execute_reply.started": "2022-06-04T11:14:32.184020Z"
    }
   },
   "outputs": [
    {
     "data": {
      "text/html": [
       "<div>\n",
       "<style scoped>\n",
       "    .dataframe tbody tr th:only-of-type {\n",
       "        vertical-align: middle;\n",
       "    }\n",
       "\n",
       "    .dataframe tbody tr th {\n",
       "        vertical-align: top;\n",
       "    }\n",
       "\n",
       "    .dataframe thead th {\n",
       "        text-align: right;\n",
       "    }\n",
       "</style>\n",
       "<table border=\"1\" class=\"dataframe\">\n",
       "  <thead>\n",
       "    <tr style=\"text-align: right;\">\n",
       "      <th></th>\n",
       "      <th>name</th>\n",
       "      <th>multiverse_id</th>\n",
       "      <th>layout</th>\n",
       "      <th>names</th>\n",
       "      <th>mana_cost</th>\n",
       "      <th>cmc</th>\n",
       "      <th>colors</th>\n",
       "      <th>color_identity</th>\n",
       "      <th>type</th>\n",
       "      <th>supertypes</th>\n",
       "      <th>...</th>\n",
       "      <th>foreign_names</th>\n",
       "      <th>printings</th>\n",
       "      <th>original_text</th>\n",
       "      <th>original_type</th>\n",
       "      <th>legalities</th>\n",
       "      <th>source</th>\n",
       "      <th>image_url</th>\n",
       "      <th>set</th>\n",
       "      <th>set_name</th>\n",
       "      <th>id</th>\n",
       "    </tr>\n",
       "  </thead>\n",
       "  <tbody>\n",
       "    <tr>\n",
       "      <th>0</th>\n",
       "      <td>Ancestor's Chosen</td>\n",
       "      <td>130550.0</td>\n",
       "      <td>normal</td>\n",
       "      <td>NaN</td>\n",
       "      <td>{5}{W}{W}</td>\n",
       "      <td>7.0</td>\n",
       "      <td>['White']</td>\n",
       "      <td>['W']</td>\n",
       "      <td>Creature — Human Cleric</td>\n",
       "      <td>NaN</td>\n",
       "      <td>...</td>\n",
       "      <td>[{'name': 'Ausgewählter der Ahnfrau', 'text': ...</td>\n",
       "      <td>['10E', 'JUD', 'UMA']</td>\n",
       "      <td>First strike (This creature deals combat damag...</td>\n",
       "      <td>Creature - Human Cleric</td>\n",
       "      <td>[{'format': 'Commander', 'legality': 'Legal'},...</td>\n",
       "      <td>NaN</td>\n",
       "      <td>http://gatherer.wizards.com/Handlers/Image.ash...</td>\n",
       "      <td>10E</td>\n",
       "      <td>Tenth Edition</td>\n",
       "      <td>5f8287b1-5bb6-5f4c-ad17-316a40d5bb0c</td>\n",
       "    </tr>\n",
       "    <tr>\n",
       "      <th>1</th>\n",
       "      <td>Ancestor's Chosen</td>\n",
       "      <td>NaN</td>\n",
       "      <td>normal</td>\n",
       "      <td>NaN</td>\n",
       "      <td>{5}{W}{W}</td>\n",
       "      <td>7.0</td>\n",
       "      <td>['White']</td>\n",
       "      <td>['W']</td>\n",
       "      <td>Creature — Human Cleric</td>\n",
       "      <td>NaN</td>\n",
       "      <td>...</td>\n",
       "      <td>NaN</td>\n",
       "      <td>['10E', 'JUD', 'UMA']</td>\n",
       "      <td>NaN</td>\n",
       "      <td>NaN</td>\n",
       "      <td>[{'format': 'Commander', 'legality': 'Legal'},...</td>\n",
       "      <td>NaN</td>\n",
       "      <td>NaN</td>\n",
       "      <td>10E</td>\n",
       "      <td>Tenth Edition</td>\n",
       "      <td>b7c19924-b4bf-56fc-aa73-f586e940bd42</td>\n",
       "    </tr>\n",
       "    <tr>\n",
       "      <th>2</th>\n",
       "      <td>Angel of Mercy</td>\n",
       "      <td>129465.0</td>\n",
       "      <td>normal</td>\n",
       "      <td>NaN</td>\n",
       "      <td>{4}{W}</td>\n",
       "      <td>5.0</td>\n",
       "      <td>['White']</td>\n",
       "      <td>['W']</td>\n",
       "      <td>Creature — Angel</td>\n",
       "      <td>NaN</td>\n",
       "      <td>...</td>\n",
       "      <td>[{'name': 'Engel der Gnade', 'text': 'Fliegend...</td>\n",
       "      <td>['10E', '8ED', '9ED', 'DDC', 'DVD', 'IMA', 'IN...</td>\n",
       "      <td>Flying (This creature can't be blocked except ...</td>\n",
       "      <td>Creature - Angel</td>\n",
       "      <td>[{'format': 'Commander', 'legality': 'Legal'},...</td>\n",
       "      <td>NaN</td>\n",
       "      <td>http://gatherer.wizards.com/Handlers/Image.ash...</td>\n",
       "      <td>10E</td>\n",
       "      <td>Tenth Edition</td>\n",
       "      <td>57aaebc1-850c-503d-9f6e-bb8d00d8bf7c</td>\n",
       "    </tr>\n",
       "    <tr>\n",
       "      <th>3</th>\n",
       "      <td>Angel of Mercy</td>\n",
       "      <td>NaN</td>\n",
       "      <td>normal</td>\n",
       "      <td>NaN</td>\n",
       "      <td>{4}{W}</td>\n",
       "      <td>5.0</td>\n",
       "      <td>['White']</td>\n",
       "      <td>['W']</td>\n",
       "      <td>Creature — Angel</td>\n",
       "      <td>NaN</td>\n",
       "      <td>...</td>\n",
       "      <td>NaN</td>\n",
       "      <td>['10E', '8ED', '9ED', 'DDC', 'DVD', 'IMA', 'IN...</td>\n",
       "      <td>NaN</td>\n",
       "      <td>NaN</td>\n",
       "      <td>[{'format': 'Commander', 'legality': 'Legal'},...</td>\n",
       "      <td>NaN</td>\n",
       "      <td>NaN</td>\n",
       "      <td>10E</td>\n",
       "      <td>Tenth Edition</td>\n",
       "      <td>8fd4e2eb-3eb4-50ea-856b-ef638fa47f8a</td>\n",
       "    </tr>\n",
       "    <tr>\n",
       "      <th>4</th>\n",
       "      <td>Angelic Blessing</td>\n",
       "      <td>129711.0</td>\n",
       "      <td>normal</td>\n",
       "      <td>NaN</td>\n",
       "      <td>{2}{W}</td>\n",
       "      <td>3.0</td>\n",
       "      <td>['White']</td>\n",
       "      <td>['W']</td>\n",
       "      <td>Sorcery</td>\n",
       "      <td>NaN</td>\n",
       "      <td>...</td>\n",
       "      <td>[{'name': 'Himmlischer Segen', 'text': 'Eine K...</td>\n",
       "      <td>['10E', '9ED', 'EXO', 'P02', 'POR', 'PS11', 'S...</td>\n",
       "      <td>Target creature gets +3/+3 and gains flying un...</td>\n",
       "      <td>Sorcery</td>\n",
       "      <td>[{'format': 'Commander', 'legality': 'Legal'},...</td>\n",
       "      <td>NaN</td>\n",
       "      <td>http://gatherer.wizards.com/Handlers/Image.ash...</td>\n",
       "      <td>10E</td>\n",
       "      <td>Tenth Edition</td>\n",
       "      <td>55bd38ca-dc73-5c06-8f80-a6ddd2f44382</td>\n",
       "    </tr>\n",
       "  </tbody>\n",
       "</table>\n",
       "<p>5 rows × 39 columns</p>\n",
       "</div>"
      ],
      "text/plain": [
       "                name  multiverse_id  layout  names  mana_cost  cmc     colors  \\\n",
       "0  Ancestor's Chosen       130550.0  normal    NaN  {5}{W}{W}  7.0  ['White']   \n",
       "1  Ancestor's Chosen            NaN  normal    NaN  {5}{W}{W}  7.0  ['White']   \n",
       "2     Angel of Mercy       129465.0  normal    NaN     {4}{W}  5.0  ['White']   \n",
       "3     Angel of Mercy            NaN  normal    NaN     {4}{W}  5.0  ['White']   \n",
       "4   Angelic Blessing       129711.0  normal    NaN     {2}{W}  3.0  ['White']   \n",
       "\n",
       "  color_identity                     type supertypes  ...  \\\n",
       "0          ['W']  Creature — Human Cleric        NaN  ...   \n",
       "1          ['W']  Creature — Human Cleric        NaN  ...   \n",
       "2          ['W']         Creature — Angel        NaN  ...   \n",
       "3          ['W']         Creature — Angel        NaN  ...   \n",
       "4          ['W']                  Sorcery        NaN  ...   \n",
       "\n",
       "                                       foreign_names  \\\n",
       "0  [{'name': 'Ausgewählter der Ahnfrau', 'text': ...   \n",
       "1                                                NaN   \n",
       "2  [{'name': 'Engel der Gnade', 'text': 'Fliegend...   \n",
       "3                                                NaN   \n",
       "4  [{'name': 'Himmlischer Segen', 'text': 'Eine K...   \n",
       "\n",
       "                                           printings  \\\n",
       "0                              ['10E', 'JUD', 'UMA']   \n",
       "1                              ['10E', 'JUD', 'UMA']   \n",
       "2  ['10E', '8ED', '9ED', 'DDC', 'DVD', 'IMA', 'IN...   \n",
       "3  ['10E', '8ED', '9ED', 'DDC', 'DVD', 'IMA', 'IN...   \n",
       "4  ['10E', '9ED', 'EXO', 'P02', 'POR', 'PS11', 'S...   \n",
       "\n",
       "                                       original_text            original_type  \\\n",
       "0  First strike (This creature deals combat damag...  Creature - Human Cleric   \n",
       "1                                                NaN                      NaN   \n",
       "2  Flying (This creature can't be blocked except ...         Creature - Angel   \n",
       "3                                                NaN                      NaN   \n",
       "4  Target creature gets +3/+3 and gains flying un...                  Sorcery   \n",
       "\n",
       "                                          legalities source  \\\n",
       "0  [{'format': 'Commander', 'legality': 'Legal'},...    NaN   \n",
       "1  [{'format': 'Commander', 'legality': 'Legal'},...    NaN   \n",
       "2  [{'format': 'Commander', 'legality': 'Legal'},...    NaN   \n",
       "3  [{'format': 'Commander', 'legality': 'Legal'},...    NaN   \n",
       "4  [{'format': 'Commander', 'legality': 'Legal'},...    NaN   \n",
       "\n",
       "                                           image_url  set       set_name  \\\n",
       "0  http://gatherer.wizards.com/Handlers/Image.ash...  10E  Tenth Edition   \n",
       "1                                                NaN  10E  Tenth Edition   \n",
       "2  http://gatherer.wizards.com/Handlers/Image.ash...  10E  Tenth Edition   \n",
       "3                                                NaN  10E  Tenth Edition   \n",
       "4  http://gatherer.wizards.com/Handlers/Image.ash...  10E  Tenth Edition   \n",
       "\n",
       "                                     id  \n",
       "0  5f8287b1-5bb6-5f4c-ad17-316a40d5bb0c  \n",
       "1  b7c19924-b4bf-56fc-aa73-f586e940bd42  \n",
       "2  57aaebc1-850c-503d-9f6e-bb8d00d8bf7c  \n",
       "3  8fd4e2eb-3eb4-50ea-856b-ef638fa47f8a  \n",
       "4  55bd38ca-dc73-5c06-8f80-a6ddd2f44382  \n",
       "\n",
       "[5 rows x 39 columns]"
      ]
     },
     "execution_count": 4,
     "metadata": {},
     "output_type": "execute_result"
    }
   ],
   "source": [
    "df.head()"
   ]
  },
  {
   "cell_type": "code",
   "execution_count": 5,
   "metadata": {
    "execution": {
     "iopub.execute_input": "2022-06-04T11:16:35.328427Z",
     "iopub.status.busy": "2022-06-04T11:16:35.328000Z",
     "iopub.status.idle": "2022-06-04T11:16:35.542565Z",
     "shell.execute_reply": "2022-06-04T11:16:35.541507Z",
     "shell.execute_reply.started": "2022-06-04T11:16:35.328396Z"
    }
   },
   "outputs": [
    {
     "name": "stdout",
     "output_type": "stream",
     "text": [
      "<class 'pandas.core.frame.DataFrame'>\n",
      "RangeIndex: 66770 entries, 0 to 66769\n",
      "Data columns (total 39 columns):\n",
      " #   Column          Non-Null Count  Dtype  \n",
      "---  ------          --------------  -----  \n",
      " 0   name            66770 non-null  object \n",
      " 1   multiverse_id   47455 non-null  float64\n",
      " 2   layout          66770 non-null  object \n",
      " 3   names           0 non-null      float64\n",
      " 4   mana_cost       58100 non-null  object \n",
      " 5   cmc             66770 non-null  float64\n",
      " 6   colors          52612 non-null  object \n",
      " 7   color_identity  59739 non-null  object \n",
      " 8   type            66770 non-null  object \n",
      " 9   supertypes      9912 non-null   object \n",
      " 10  subtypes        40903 non-null  object \n",
      " 11  rarity          66770 non-null  object \n",
      " 12  text            65805 non-null  object \n",
      " 13  flavor          34412 non-null  object \n",
      " 14  artist          66759 non-null  object \n",
      " 15  number          66770 non-null  object \n",
      " 16  power           31332 non-null  object \n",
      " 17  toughness       31332 non-null  object \n",
      " 18  loyalty         1075 non-null   object \n",
      " 19  variations      12590 non-null  object \n",
      " 20  watermark       5110 non-null   object \n",
      " 21  border          0 non-null      float64\n",
      " 22  timeshifted     0 non-null      float64\n",
      " 23  hand            119 non-null    float64\n",
      " 24  life            119 non-null    float64\n",
      " 25  reserved        0 non-null      float64\n",
      " 26  release_date    0 non-null      float64\n",
      " 27  starter         0 non-null      float64\n",
      " 28  rulings         37243 non-null  object \n",
      " 29  foreign_names   41285 non-null  object \n",
      " 30  printings       66770 non-null  object \n",
      " 31  original_text   46485 non-null  object \n",
      " 32  original_type   47435 non-null  object \n",
      " 33  legalities      65380 non-null  object \n",
      " 34  source          0 non-null      float64\n",
      " 35  image_url       47455 non-null  object \n",
      " 36  set             66770 non-null  object \n",
      " 37  set_name        66770 non-null  object \n",
      " 38  id              66770 non-null  object \n",
      "dtypes: float64(11), object(28)\n",
      "memory usage: 19.9+ MB\n"
     ]
    }
   ],
   "source": [
    "df.info()"
   ]
  },
  {
   "cell_type": "markdown",
   "metadata": {},
   "source": [
    "### Видно, что очень много пропущенных значений содержится в датасете. Также в описании сказано, что есть дубликаты в данных"
   ]
  },
  {
   "cell_type": "markdown",
   "metadata": {},
   "source": [
    "# Data cleaning"
   ]
  },
  {
   "cell_type": "code",
   "execution_count": 6,
   "metadata": {
    "execution": {
     "iopub.execute_input": "2022-06-04T11:22:31.800141Z",
     "iopub.status.busy": "2022-06-04T11:22:31.799570Z",
     "iopub.status.idle": "2022-06-04T11:22:31.929405Z",
     "shell.execute_reply": "2022-06-04T11:22:31.928297Z",
     "shell.execute_reply.started": "2022-06-04T11:22:31.800097Z"
    }
   },
   "outputs": [
    {
     "data": {
      "text/html": [
       "<div>\n",
       "<style scoped>\n",
       "    .dataframe tbody tr th:only-of-type {\n",
       "        vertical-align: middle;\n",
       "    }\n",
       "\n",
       "    .dataframe tbody tr th {\n",
       "        vertical-align: top;\n",
       "    }\n",
       "\n",
       "    .dataframe thead th {\n",
       "        text-align: right;\n",
       "    }\n",
       "</style>\n",
       "<table border=\"1\" class=\"dataframe\">\n",
       "  <thead>\n",
       "    <tr style=\"text-align: right;\">\n",
       "      <th></th>\n",
       "      <th>name</th>\n",
       "      <th>multiverse_id</th>\n",
       "      <th>layout</th>\n",
       "      <th>names</th>\n",
       "      <th>mana_cost</th>\n",
       "      <th>cmc</th>\n",
       "      <th>colors</th>\n",
       "      <th>color_identity</th>\n",
       "      <th>type</th>\n",
       "      <th>supertypes</th>\n",
       "      <th>...</th>\n",
       "      <th>foreign_names</th>\n",
       "      <th>printings</th>\n",
       "      <th>original_text</th>\n",
       "      <th>original_type</th>\n",
       "      <th>legalities</th>\n",
       "      <th>source</th>\n",
       "      <th>image_url</th>\n",
       "      <th>set</th>\n",
       "      <th>set_name</th>\n",
       "      <th>id</th>\n",
       "    </tr>\n",
       "  </thead>\n",
       "  <tbody>\n",
       "    <tr>\n",
       "      <th>0</th>\n",
       "      <td>Ancestor's Chosen</td>\n",
       "      <td>130550.0</td>\n",
       "      <td>normal</td>\n",
       "      <td>NaN</td>\n",
       "      <td>{5}{W}{W}</td>\n",
       "      <td>7.0</td>\n",
       "      <td>['White']</td>\n",
       "      <td>['W']</td>\n",
       "      <td>Creature — Human Cleric</td>\n",
       "      <td>NaN</td>\n",
       "      <td>...</td>\n",
       "      <td>[{'name': 'Ausgewählter der Ahnfrau', 'text': ...</td>\n",
       "      <td>['10E', 'JUD', 'UMA']</td>\n",
       "      <td>First strike (This creature deals combat damag...</td>\n",
       "      <td>Creature - Human Cleric</td>\n",
       "      <td>[{'format': 'Commander', 'legality': 'Legal'},...</td>\n",
       "      <td>NaN</td>\n",
       "      <td>http://gatherer.wizards.com/Handlers/Image.ash...</td>\n",
       "      <td>10E</td>\n",
       "      <td>Tenth Edition</td>\n",
       "      <td>5f8287b1-5bb6-5f4c-ad17-316a40d5bb0c</td>\n",
       "    </tr>\n",
       "    <tr>\n",
       "      <th>2</th>\n",
       "      <td>Angel of Mercy</td>\n",
       "      <td>129465.0</td>\n",
       "      <td>normal</td>\n",
       "      <td>NaN</td>\n",
       "      <td>{4}{W}</td>\n",
       "      <td>5.0</td>\n",
       "      <td>['White']</td>\n",
       "      <td>['W']</td>\n",
       "      <td>Creature — Angel</td>\n",
       "      <td>NaN</td>\n",
       "      <td>...</td>\n",
       "      <td>[{'name': 'Engel der Gnade', 'text': 'Fliegend...</td>\n",
       "      <td>['10E', '8ED', '9ED', 'DDC', 'DVD', 'IMA', 'IN...</td>\n",
       "      <td>Flying (This creature can't be blocked except ...</td>\n",
       "      <td>Creature - Angel</td>\n",
       "      <td>[{'format': 'Commander', 'legality': 'Legal'},...</td>\n",
       "      <td>NaN</td>\n",
       "      <td>http://gatherer.wizards.com/Handlers/Image.ash...</td>\n",
       "      <td>10E</td>\n",
       "      <td>Tenth Edition</td>\n",
       "      <td>57aaebc1-850c-503d-9f6e-bb8d00d8bf7c</td>\n",
       "    </tr>\n",
       "    <tr>\n",
       "      <th>4</th>\n",
       "      <td>Angelic Blessing</td>\n",
       "      <td>129711.0</td>\n",
       "      <td>normal</td>\n",
       "      <td>NaN</td>\n",
       "      <td>{2}{W}</td>\n",
       "      <td>3.0</td>\n",
       "      <td>['White']</td>\n",
       "      <td>['W']</td>\n",
       "      <td>Sorcery</td>\n",
       "      <td>NaN</td>\n",
       "      <td>...</td>\n",
       "      <td>[{'name': 'Himmlischer Segen', 'text': 'Eine K...</td>\n",
       "      <td>['10E', '9ED', 'EXO', 'P02', 'POR', 'PS11', 'S...</td>\n",
       "      <td>Target creature gets +3/+3 and gains flying un...</td>\n",
       "      <td>Sorcery</td>\n",
       "      <td>[{'format': 'Commander', 'legality': 'Legal'},...</td>\n",
       "      <td>NaN</td>\n",
       "      <td>http://gatherer.wizards.com/Handlers/Image.ash...</td>\n",
       "      <td>10E</td>\n",
       "      <td>Tenth Edition</td>\n",
       "      <td>55bd38ca-dc73-5c06-8f80-a6ddd2f44382</td>\n",
       "    </tr>\n",
       "    <tr>\n",
       "      <th>6</th>\n",
       "      <td>Angelic Chorus</td>\n",
       "      <td>129710.0</td>\n",
       "      <td>normal</td>\n",
       "      <td>NaN</td>\n",
       "      <td>{3}{W}{W}</td>\n",
       "      <td>5.0</td>\n",
       "      <td>['White']</td>\n",
       "      <td>['W']</td>\n",
       "      <td>Enchantment</td>\n",
       "      <td>NaN</td>\n",
       "      <td>...</td>\n",
       "      <td>[{'name': 'Choral der Engel', 'text': 'Immer w...</td>\n",
       "      <td>['10E', 'BBD', 'USG']</td>\n",
       "      <td>Whenever a creature comes into play under your...</td>\n",
       "      <td>Enchantment</td>\n",
       "      <td>[{'format': 'Commander', 'legality': 'Legal'},...</td>\n",
       "      <td>NaN</td>\n",
       "      <td>http://gatherer.wizards.com/Handlers/Image.ash...</td>\n",
       "      <td>10E</td>\n",
       "      <td>Tenth Edition</td>\n",
       "      <td>3b77bb52-4181-57f5-b3cd-f3a15b95aa29</td>\n",
       "    </tr>\n",
       "    <tr>\n",
       "      <th>7</th>\n",
       "      <td>Angelic Wall</td>\n",
       "      <td>129671.0</td>\n",
       "      <td>normal</td>\n",
       "      <td>NaN</td>\n",
       "      <td>{1}{W}</td>\n",
       "      <td>2.0</td>\n",
       "      <td>['White']</td>\n",
       "      <td>['W']</td>\n",
       "      <td>Creature — Wall</td>\n",
       "      <td>NaN</td>\n",
       "      <td>...</td>\n",
       "      <td>[{'name': 'Mauer der Engel', 'text': 'Verteidi...</td>\n",
       "      <td>['10E', 'AVR', 'M14', 'ODY', 'P02']</td>\n",
       "      <td>Defender, flying (This creature can't attack, ...</td>\n",
       "      <td>Creature - Wall</td>\n",
       "      <td>[{'format': 'Commander', 'legality': 'Legal'},...</td>\n",
       "      <td>NaN</td>\n",
       "      <td>http://gatherer.wizards.com/Handlers/Image.ash...</td>\n",
       "      <td>10E</td>\n",
       "      <td>Tenth Edition</td>\n",
       "      <td>fadda48c-6226-5ac5-a2b9-e9170d2017cd</td>\n",
       "    </tr>\n",
       "  </tbody>\n",
       "</table>\n",
       "<p>5 rows × 39 columns</p>\n",
       "</div>"
      ],
      "text/plain": [
       "                name  multiverse_id  layout  names  mana_cost  cmc     colors  \\\n",
       "0  Ancestor's Chosen       130550.0  normal    NaN  {5}{W}{W}  7.0  ['White']   \n",
       "2     Angel of Mercy       129465.0  normal    NaN     {4}{W}  5.0  ['White']   \n",
       "4   Angelic Blessing       129711.0  normal    NaN     {2}{W}  3.0  ['White']   \n",
       "6     Angelic Chorus       129710.0  normal    NaN  {3}{W}{W}  5.0  ['White']   \n",
       "7       Angelic Wall       129671.0  normal    NaN     {1}{W}  2.0  ['White']   \n",
       "\n",
       "  color_identity                     type supertypes  ...  \\\n",
       "0          ['W']  Creature — Human Cleric        NaN  ...   \n",
       "2          ['W']         Creature — Angel        NaN  ...   \n",
       "4          ['W']                  Sorcery        NaN  ...   \n",
       "6          ['W']              Enchantment        NaN  ...   \n",
       "7          ['W']          Creature — Wall        NaN  ...   \n",
       "\n",
       "                                       foreign_names  \\\n",
       "0  [{'name': 'Ausgewählter der Ahnfrau', 'text': ...   \n",
       "2  [{'name': 'Engel der Gnade', 'text': 'Fliegend...   \n",
       "4  [{'name': 'Himmlischer Segen', 'text': 'Eine K...   \n",
       "6  [{'name': 'Choral der Engel', 'text': 'Immer w...   \n",
       "7  [{'name': 'Mauer der Engel', 'text': 'Verteidi...   \n",
       "\n",
       "                                           printings  \\\n",
       "0                              ['10E', 'JUD', 'UMA']   \n",
       "2  ['10E', '8ED', '9ED', 'DDC', 'DVD', 'IMA', 'IN...   \n",
       "4  ['10E', '9ED', 'EXO', 'P02', 'POR', 'PS11', 'S...   \n",
       "6                              ['10E', 'BBD', 'USG']   \n",
       "7                ['10E', 'AVR', 'M14', 'ODY', 'P02']   \n",
       "\n",
       "                                       original_text            original_type  \\\n",
       "0  First strike (This creature deals combat damag...  Creature - Human Cleric   \n",
       "2  Flying (This creature can't be blocked except ...         Creature - Angel   \n",
       "4  Target creature gets +3/+3 and gains flying un...                  Sorcery   \n",
       "6  Whenever a creature comes into play under your...              Enchantment   \n",
       "7  Defender, flying (This creature can't attack, ...          Creature - Wall   \n",
       "\n",
       "                                          legalities source  \\\n",
       "0  [{'format': 'Commander', 'legality': 'Legal'},...    NaN   \n",
       "2  [{'format': 'Commander', 'legality': 'Legal'},...    NaN   \n",
       "4  [{'format': 'Commander', 'legality': 'Legal'},...    NaN   \n",
       "6  [{'format': 'Commander', 'legality': 'Legal'},...    NaN   \n",
       "7  [{'format': 'Commander', 'legality': 'Legal'},...    NaN   \n",
       "\n",
       "                                           image_url  set       set_name  \\\n",
       "0  http://gatherer.wizards.com/Handlers/Image.ash...  10E  Tenth Edition   \n",
       "2  http://gatherer.wizards.com/Handlers/Image.ash...  10E  Tenth Edition   \n",
       "4  http://gatherer.wizards.com/Handlers/Image.ash...  10E  Tenth Edition   \n",
       "6  http://gatherer.wizards.com/Handlers/Image.ash...  10E  Tenth Edition   \n",
       "7  http://gatherer.wizards.com/Handlers/Image.ash...  10E  Tenth Edition   \n",
       "\n",
       "                                     id  \n",
       "0  5f8287b1-5bb6-5f4c-ad17-316a40d5bb0c  \n",
       "2  57aaebc1-850c-503d-9f6e-bb8d00d8bf7c  \n",
       "4  55bd38ca-dc73-5c06-8f80-a6ddd2f44382  \n",
       "6  3b77bb52-4181-57f5-b3cd-f3a15b95aa29  \n",
       "7  fadda48c-6226-5ac5-a2b9-e9170d2017cd  \n",
       "\n",
       "[5 rows x 39 columns]"
      ]
     },
     "execution_count": 6,
     "metadata": {},
     "output_type": "execute_result"
    }
   ],
   "source": [
    "df_no_dubs = df.drop_duplicates(subset=\"name\")\n",
    "df_no_dubs.head()"
   ]
  },
  {
   "cell_type": "code",
   "execution_count": 7,
   "metadata": {
    "execution": {
     "iopub.execute_input": "2022-06-04T11:23:49.621698Z",
     "iopub.status.busy": "2022-06-04T11:23:49.620532Z",
     "iopub.status.idle": "2022-06-04T11:23:49.629040Z",
     "shell.execute_reply": "2022-06-04T11:23:49.628063Z",
     "shell.execute_reply.started": "2022-06-04T11:23:49.621637Z"
    }
   },
   "outputs": [
    {
     "data": {
      "text/plain": [
       "((66770, 39), (24121, 39))"
      ]
     },
     "execution_count": 7,
     "metadata": {},
     "output_type": "execute_result"
    }
   ],
   "source": [
    "df.shape, df_no_dubs.shape"
   ]
  },
  {
   "cell_type": "markdown",
   "metadata": {},
   "source": [
    "# 1. Распределение карт по цвету в зависимости от редкости"
   ]
  },
  {
   "cell_type": "markdown",
   "metadata": {},
   "source": [
    "### У признака color_identity значения являются как строками в виде списков. Преобразуем их сначала в список, а потом создадим новый признак, в котором цвета будут в отдельных категориях. То есть если карточка содержит несколько цветов, то она - разноцветная (Multi)"
   ]
  },
  {
   "cell_type": "code",
   "execution_count": 8,
   "metadata": {
    "execution": {
     "iopub.execute_input": "2022-06-04T11:51:37.587707Z",
     "iopub.status.busy": "2022-06-04T11:51:37.587257Z",
     "iopub.status.idle": "2022-06-04T11:51:37.592935Z",
     "shell.execute_reply": "2022-06-04T11:51:37.592017Z",
     "shell.execute_reply.started": "2022-06-04T11:51:37.587663Z"
    }
   },
   "outputs": [],
   "source": [
    "def string_to_list(string):\n",
    "    res = string.strip('][').split(', ')\n",
    "    return res"
   ]
  },
  {
   "cell_type": "code",
   "execution_count": 9,
   "metadata": {
    "execution": {
     "iopub.execute_input": "2022-06-04T11:57:04.053570Z",
     "iopub.status.busy": "2022-06-04T11:57:04.053142Z",
     "iopub.status.idle": "2022-06-04T11:57:04.059320Z",
     "shell.execute_reply": "2022-06-04T11:57:04.058564Z",
     "shell.execute_reply.started": "2022-06-04T11:57:04.053535Z"
    }
   },
   "outputs": [],
   "source": [
    "def color_to_category(x):\n",
    "    size = len(x)\n",
    "    if size == 1:\n",
    "        x = x[0]\n",
    "    elif size == 0:\n",
    "        x = 'NA'\n",
    "    else:\n",
    "        x = 'Multi'\n",
    "    return x"
   ]
  },
  {
   "cell_type": "code",
   "execution_count": 10,
   "metadata": {
    "execution": {
     "iopub.execute_input": "2022-06-04T11:57:05.117815Z",
     "iopub.status.busy": "2022-06-04T11:57:05.116945Z",
     "iopub.status.idle": "2022-06-04T11:57:05.162787Z",
     "shell.execute_reply": "2022-06-04T11:57:05.161962Z",
     "shell.execute_reply.started": "2022-06-04T11:57:05.117780Z"
    }
   },
   "outputs": [],
   "source": [
    "# without dublicates \n",
    "df_no_dubs[\"color_category\"] = df_no_dubs[\"color_identity\"].apply(str)\n",
    "df_no_dubs[\"color_category\"] = df_no_dubs[\"color_category\"].apply(lambda x: string_to_list(x))\n",
    "df_no_dubs[\"color_category\"] = df_no_dubs[\"color_category\"].apply(lambda x: color_to_category(x))"
   ]
  },
  {
   "cell_type": "code",
   "execution_count": 11,
   "metadata": {
    "execution": {
     "iopub.execute_input": "2022-06-04T12:13:26.249151Z",
     "iopub.status.busy": "2022-06-04T12:13:26.248365Z",
     "iopub.status.idle": "2022-06-04T12:13:26.360766Z",
     "shell.execute_reply": "2022-06-04T12:13:26.359759Z",
     "shell.execute_reply.started": "2022-06-04T12:13:26.249107Z"
    }
   },
   "outputs": [],
   "source": [
    "# with dublicates\n",
    "df[\"color_category\"] = df[\"color_identity\"].apply(str)\n",
    "df[\"color_category\"] = df[\"color_category\"].apply(lambda x: string_to_list(x))\n",
    "df[\"color_category\"] = df[\"color_category\"].apply(lambda x: color_to_category(x))"
   ]
  },
  {
   "cell_type": "code",
   "execution_count": 12,
   "metadata": {
    "execution": {
     "iopub.execute_input": "2022-06-04T12:11:54.608181Z",
     "iopub.status.busy": "2022-06-04T12:11:54.607797Z",
     "iopub.status.idle": "2022-06-04T12:11:54.633745Z",
     "shell.execute_reply": "2022-06-04T12:11:54.632442Z",
     "shell.execute_reply.started": "2022-06-04T12:11:54.608150Z"
    }
   },
   "outputs": [
    {
     "data": {
      "text/html": [
       "<div>\n",
       "<style scoped>\n",
       "    .dataframe tbody tr th:only-of-type {\n",
       "        vertical-align: middle;\n",
       "    }\n",
       "\n",
       "    .dataframe tbody tr th {\n",
       "        vertical-align: top;\n",
       "    }\n",
       "\n",
       "    .dataframe thead th {\n",
       "        text-align: right;\n",
       "    }\n",
       "</style>\n",
       "<table border=\"1\" class=\"dataframe\">\n",
       "  <thead>\n",
       "    <tr style=\"text-align: right;\">\n",
       "      <th></th>\n",
       "      <th></th>\n",
       "      <th>color_category</th>\n",
       "    </tr>\n",
       "    <tr>\n",
       "      <th>color_category</th>\n",
       "      <th>rarity</th>\n",
       "      <th></th>\n",
       "    </tr>\n",
       "  </thead>\n",
       "  <tbody>\n",
       "    <tr>\n",
       "      <th rowspan=\"4\" valign=\"top\">'B'</th>\n",
       "      <th>Common</th>\n",
       "      <td>1437</td>\n",
       "    </tr>\n",
       "    <tr>\n",
       "      <th>Mythic</th>\n",
       "      <td>136</td>\n",
       "    </tr>\n",
       "    <tr>\n",
       "      <th>Rare</th>\n",
       "      <td>1036</td>\n",
       "    </tr>\n",
       "    <tr>\n",
       "      <th>Uncommon</th>\n",
       "      <td>1040</td>\n",
       "    </tr>\n",
       "    <tr>\n",
       "      <th rowspan=\"4\" valign=\"top\">'G'</th>\n",
       "      <th>Common</th>\n",
       "      <td>1407</td>\n",
       "    </tr>\n",
       "    <tr>\n",
       "      <th>Mythic</th>\n",
       "      <td>129</td>\n",
       "    </tr>\n",
       "    <tr>\n",
       "      <th>Rare</th>\n",
       "      <td>975</td>\n",
       "    </tr>\n",
       "    <tr>\n",
       "      <th>Uncommon</th>\n",
       "      <td>1032</td>\n",
       "    </tr>\n",
       "    <tr>\n",
       "      <th rowspan=\"5\" valign=\"top\">'R'</th>\n",
       "      <th>Common</th>\n",
       "      <td>1417</td>\n",
       "    </tr>\n",
       "    <tr>\n",
       "      <th>Mythic</th>\n",
       "      <td>134</td>\n",
       "    </tr>\n",
       "    <tr>\n",
       "      <th>Rare</th>\n",
       "      <td>1011</td>\n",
       "    </tr>\n",
       "    <tr>\n",
       "      <th>Special</th>\n",
       "      <td>2</td>\n",
       "    </tr>\n",
       "    <tr>\n",
       "      <th>Uncommon</th>\n",
       "      <td>1041</td>\n",
       "    </tr>\n",
       "    <tr>\n",
       "      <th rowspan=\"4\" valign=\"top\">'U'</th>\n",
       "      <th>Common</th>\n",
       "      <td>1412</td>\n",
       "    </tr>\n",
       "    <tr>\n",
       "      <th>Mythic</th>\n",
       "      <td>133</td>\n",
       "    </tr>\n",
       "    <tr>\n",
       "      <th>Rare</th>\n",
       "      <td>1026</td>\n",
       "    </tr>\n",
       "    <tr>\n",
       "      <th>Uncommon</th>\n",
       "      <td>1025</td>\n",
       "    </tr>\n",
       "    <tr>\n",
       "      <th rowspan=\"5\" valign=\"top\">'W'</th>\n",
       "      <th>Common</th>\n",
       "      <td>1452</td>\n",
       "    </tr>\n",
       "    <tr>\n",
       "      <th>Mythic</th>\n",
       "      <td>132</td>\n",
       "    </tr>\n",
       "    <tr>\n",
       "      <th>Rare</th>\n",
       "      <td>1002</td>\n",
       "    </tr>\n",
       "    <tr>\n",
       "      <th>Special</th>\n",
       "      <td>1</td>\n",
       "    </tr>\n",
       "    <tr>\n",
       "      <th>Uncommon</th>\n",
       "      <td>1037</td>\n",
       "    </tr>\n",
       "    <tr>\n",
       "      <th rowspan=\"4\" valign=\"top\">Multi</th>\n",
       "      <th>Common</th>\n",
       "      <td>662</td>\n",
       "    </tr>\n",
       "    <tr>\n",
       "      <th>Mythic</th>\n",
       "      <td>482</td>\n",
       "    </tr>\n",
       "    <tr>\n",
       "      <th>Rare</th>\n",
       "      <td>1281</td>\n",
       "    </tr>\n",
       "    <tr>\n",
       "      <th>Uncommon</th>\n",
       "      <td>1188</td>\n",
       "    </tr>\n",
       "    <tr>\n",
       "      <th rowspan=\"5\" valign=\"top\">nan</th>\n",
       "      <th>Common</th>\n",
       "      <td>628</td>\n",
       "    </tr>\n",
       "    <tr>\n",
       "      <th>Mythic</th>\n",
       "      <td>100</td>\n",
       "    </tr>\n",
       "    <tr>\n",
       "      <th>Rare</th>\n",
       "      <td>973</td>\n",
       "    </tr>\n",
       "    <tr>\n",
       "      <th>Special</th>\n",
       "      <td>2</td>\n",
       "    </tr>\n",
       "    <tr>\n",
       "      <th>Uncommon</th>\n",
       "      <td>788</td>\n",
       "    </tr>\n",
       "  </tbody>\n",
       "</table>\n",
       "</div>"
      ],
      "text/plain": [
       "                         color_category\n",
       "color_category rarity                  \n",
       "'B'            Common              1437\n",
       "               Mythic               136\n",
       "               Rare                1036\n",
       "               Uncommon            1040\n",
       "'G'            Common              1407\n",
       "               Mythic               129\n",
       "               Rare                 975\n",
       "               Uncommon            1032\n",
       "'R'            Common              1417\n",
       "               Mythic               134\n",
       "               Rare                1011\n",
       "               Special                2\n",
       "               Uncommon            1041\n",
       "'U'            Common              1412\n",
       "               Mythic               133\n",
       "               Rare                1026\n",
       "               Uncommon            1025\n",
       "'W'            Common              1452\n",
       "               Mythic               132\n",
       "               Rare                1002\n",
       "               Special                1\n",
       "               Uncommon            1037\n",
       "Multi          Common               662\n",
       "               Mythic               482\n",
       "               Rare                1281\n",
       "               Uncommon            1188\n",
       "nan            Common               628\n",
       "               Mythic               100\n",
       "               Rare                 973\n",
       "               Special                2\n",
       "               Uncommon             788"
      ]
     },
     "execution_count": 12,
     "metadata": {},
     "output_type": "execute_result"
    }
   ],
   "source": [
    "df_no_dubs.groupby(['color_category', 'rarity']).agg({'color_category': 'count'})"
   ]
  },
  {
   "cell_type": "code",
   "execution_count": 13,
   "metadata": {
    "execution": {
     "iopub.execute_input": "2022-06-04T12:21:55.245771Z",
     "iopub.status.busy": "2022-06-04T12:21:55.245342Z",
     "iopub.status.idle": "2022-06-04T12:21:55.695513Z",
     "shell.execute_reply": "2022-06-04T12:21:55.694372Z",
     "shell.execute_reply.started": "2022-06-04T12:21:55.245739Z"
    }
   },
   "outputs": [
    {
     "data": {
      "image/png": "[encoded data removed]",
      "text/plain": [
       "<Figure size 720x360 with 1 Axes>"
      ]
     },
     "metadata": {},
     "output_type": "display_data"
    }
   ],
   "source": [
    "sns.countplot(x='color_category', hue='rarity', data=df_no_dubs)\n",
    "plt.title('Распределение карт по цвету в зависимости от редкости (датасет без дубликатов)', fontsize=18)\n",
    "plt.show();"
   ]
  },
  {
   "cell_type": "code",
   "execution_count": 14,
   "metadata": {
    "execution": {
     "iopub.execute_input": "2022-06-04T12:23:01.574887Z",
     "iopub.status.busy": "2022-06-04T12:23:01.574422Z",
     "iopub.status.idle": "2022-06-04T12:23:02.154424Z",
     "shell.execute_reply": "2022-06-04T12:23:02.153430Z",
     "shell.execute_reply.started": "2022-06-04T12:23:01.574853Z"
    }
   },
   "outputs": [
    {
     "data": {
      "image/png": "[encoded data removed]",
      "text/plain": [
       "<Figure size 720x360 with 1 Axes>"
      ]
     },
     "metadata": {},
     "output_type": "display_data"
    }
   ],
   "source": [
    "sns.countplot(x='color_category', hue='rarity', data=df)\n",
    "plt.title('Распределение карт по цвету в зависимости от редкости (датасет c дубликатами)', fontsize=18)\n",
    "plt.show();"
   ]
  },
  {
   "cell_type": "markdown",
   "metadata": {},
   "source": [
    "# 2. Процент карт, запрещенных в формате Commander, а также распределение по типу для этих карт."
   ]
  },
  {
   "cell_type": "markdown",
   "metadata": {},
   "source": [
    "### Преобразуем признак legalities в нормальный вид (список словарей). Для этого сначала приведем строку к списку, а потом содержимое списка в словари."
   ]
  },
  {
   "cell_type": "code",
   "execution_count": 15,
   "metadata": {
    "execution": {
     "iopub.execute_input": "2022-06-04T13:02:36.359099Z",
     "iopub.status.busy": "2022-06-04T13:02:36.358667Z",
     "iopub.status.idle": "2022-06-04T13:02:36.481868Z",
     "shell.execute_reply": "2022-06-04T13:02:36.480793Z",
     "shell.execute_reply.started": "2022-06-04T13:02:36.359064Z"
    }
   },
   "outputs": [],
   "source": [
    "df_no_dubs[\"legalities\"] = df_no_dubs[\"legalities\"].apply(str)\n",
    "df_no_dubs[\"legalities\"] = df_no_dubs[\"legalities\"].apply(lambda x: string_to_list(x))"
   ]
  },
  {
   "cell_type": "code",
   "execution_count": 16,
   "metadata": {},
   "outputs": [],
   "source": [
    "import ast"
   ]
  },
  {
   "cell_type": "code",
   "execution_count": 17,
   "metadata": {},
   "outputs": [],
   "source": [
    "# Объединение пар значений в списке для словарей\n",
    "def unite_pairs(x):\n",
    "    res = [i + ',' + j for i, j in zip(x[::2], x[1::2])]\n",
    "    return res"
   ]
  },
  {
   "cell_type": "code",
   "execution_count": 18,
   "metadata": {},
   "outputs": [],
   "source": [
    "df_no_dubs['legalities'] = df_no_dubs['legalities'].apply(lambda x: unite_pairs(x))"
   ]
  },
  {
   "cell_type": "code",
   "execution_count": 19,
   "metadata": {},
   "outputs": [],
   "source": [
    "df_no_dubs['legalities'] = df_no_dubs['legalities'].apply(lambda x: [ast.literal_eval(i) for i in x])"
   ]
  },
  {
   "cell_type": "code",
   "execution_count": 20,
   "metadata": {
    "execution": {
     "iopub.execute_input": "2022-06-04T13:40:49.798560Z",
     "iopub.status.busy": "2022-06-04T13:40:49.798044Z",
     "iopub.status.idle": "2022-06-04T13:40:49.804938Z",
     "shell.execute_reply": "2022-06-04T13:40:49.803875Z",
     "shell.execute_reply.started": "2022-06-04T13:40:49.798508Z"
    }
   },
   "outputs": [],
   "source": [
    "def commander_check(x):\n",
    "    if {'format': 'Commander', 'legality': 'Legal'} in x:\n",
    "        return 'Legal'\n",
    "    else:\n",
    "        return 'Restricted'"
   ]
  },
  {
   "cell_type": "markdown",
   "metadata": {},
   "source": [
    "### Создадим отдельный признак, который говорит о том запрещена ли карта в формате Commander или нет. Отдельный момент в некоторых картах не пишется про легальность формата Commander, в таких случаях карта запрещена в формате Commander"
   ]
  },
  {
   "cell_type": "code",
   "execution_count": 21,
   "metadata": {
    "execution": {
     "iopub.execute_input": "2022-06-04T13:40:52.159687Z",
     "iopub.status.busy": "2022-06-04T13:40:52.159023Z",
     "iopub.status.idle": "2022-06-04T13:40:52.205765Z",
     "shell.execute_reply": "2022-06-04T13:40:52.204596Z",
     "shell.execute_reply.started": "2022-06-04T13:40:52.159633Z"
    }
   },
   "outputs": [],
   "source": [
    "df_no_dubs['commander_check'] = df_no_dubs['legalities'].apply(lambda x: commander_check(x))"
   ]
  },
  {
   "cell_type": "code",
   "execution_count": 22,
   "metadata": {
    "execution": {
     "iopub.execute_input": "2022-06-04T13:44:27.696804Z",
     "iopub.status.busy": "2022-06-04T13:44:27.696145Z",
     "iopub.status.idle": "2022-06-04T13:44:27.709616Z",
     "shell.execute_reply": "2022-06-04T13:44:27.708627Z",
     "shell.execute_reply.started": "2022-06-04T13:44:27.696756Z"
    }
   },
   "outputs": [
    {
     "data": {
      "text/plain": [
       "Legal         22863\n",
       "Restricted     1258\n",
       "Name: commander_check, dtype: int64"
      ]
     },
     "execution_count": 22,
     "metadata": {},
     "output_type": "execute_result"
    }
   ],
   "source": [
    "df_no_dubs['commander_check'].value_counts()"
   ]
  },
  {
   "cell_type": "code",
   "execution_count": 23,
   "metadata": {},
   "outputs": [
    {
     "name": "stdout",
     "output_type": "stream",
     "text": [
      "5.21537249699432\n"
     ]
    }
   ],
   "source": [
    "print((df_no_dubs['commander_check'][df_no_dubs['commander_check'] == 'Restricted'].shape[0] / df_no_dubs.shape[0]) * 100)"
   ]
  },
  {
   "cell_type": "markdown",
   "metadata": {
    "execution": {
     "iopub.execute_input": "2022-06-04T13:50:08.741732Z",
     "iopub.status.busy": "2022-06-04T13:50:08.741296Z",
     "iopub.status.idle": "2022-06-04T13:50:08.758265Z",
     "shell.execute_reply": "2022-06-04T13:50:08.756944Z",
     "shell.execute_reply.started": "2022-06-04T13:50:08.741696Z"
    }
   },
   "source": [
    "## Процент карт, запрещенных в формате Commander, равно 5.2%"
   ]
  },
  {
   "cell_type": "code",
   "execution_count": 24,
   "metadata": {},
   "outputs": [
    {
     "data": {
      "text/html": [
       "<div>\n",
       "<style scoped>\n",
       "    .dataframe tbody tr th:only-of-type {\n",
       "        vertical-align: middle;\n",
       "    }\n",
       "\n",
       "    .dataframe tbody tr th {\n",
       "        vertical-align: top;\n",
       "    }\n",
       "\n",
       "    .dataframe thead th {\n",
       "        text-align: right;\n",
       "    }\n",
       "</style>\n",
       "<table border=\"1\" class=\"dataframe\">\n",
       "  <thead>\n",
       "    <tr style=\"text-align: right;\">\n",
       "      <th></th>\n",
       "      <th>name</th>\n",
       "      <th>type</th>\n",
       "      <th>commander_check</th>\n",
       "    </tr>\n",
       "  </thead>\n",
       "  <tbody>\n",
       "    <tr>\n",
       "      <th>0</th>\n",
       "      <td>Ancestor's Chosen</td>\n",
       "      <td>Creature — Human Cleric</td>\n",
       "      <td>Legal</td>\n",
       "    </tr>\n",
       "    <tr>\n",
       "      <th>2</th>\n",
       "      <td>Angel of Mercy</td>\n",
       "      <td>Creature — Angel</td>\n",
       "      <td>Legal</td>\n",
       "    </tr>\n",
       "    <tr>\n",
       "      <th>4</th>\n",
       "      <td>Angelic Blessing</td>\n",
       "      <td>Sorcery</td>\n",
       "      <td>Legal</td>\n",
       "    </tr>\n",
       "    <tr>\n",
       "      <th>6</th>\n",
       "      <td>Angelic Chorus</td>\n",
       "      <td>Enchantment</td>\n",
       "      <td>Legal</td>\n",
       "    </tr>\n",
       "    <tr>\n",
       "      <th>7</th>\n",
       "      <td>Angelic Wall</td>\n",
       "      <td>Creature — Wall</td>\n",
       "      <td>Legal</td>\n",
       "    </tr>\n",
       "  </tbody>\n",
       "</table>\n",
       "</div>"
      ],
      "text/plain": [
       "                name                     type commander_check\n",
       "0  Ancestor's Chosen  Creature — Human Cleric           Legal\n",
       "2     Angel of Mercy         Creature — Angel           Legal\n",
       "4   Angelic Blessing                  Sorcery           Legal\n",
       "6     Angelic Chorus              Enchantment           Legal\n",
       "7       Angelic Wall          Creature — Wall           Legal"
      ]
     },
     "execution_count": 24,
     "metadata": {},
     "output_type": "execute_result"
    }
   ],
   "source": [
    "card_commander_types = df_no_dubs[[\"name\", \"type\", \"commander_check\"]]\n",
    "card_commander_types = card_commander_types.explode(\"type\")\n",
    "card_commander_types.head()"
   ]
  },
  {
   "cell_type": "code",
   "execution_count": 25,
   "metadata": {},
   "outputs": [
    {
     "data": {
      "text/html": [
       "<div>\n",
       "<style scoped>\n",
       "    .dataframe tbody tr th:only-of-type {\n",
       "        vertical-align: middle;\n",
       "    }\n",
       "\n",
       "    .dataframe tbody tr th {\n",
       "        vertical-align: top;\n",
       "    }\n",
       "\n",
       "    .dataframe thead th {\n",
       "        text-align: right;\n",
       "    }\n",
       "</style>\n",
       "<table border=\"1\" class=\"dataframe\">\n",
       "  <thead>\n",
       "    <tr style=\"text-align: right;\">\n",
       "      <th></th>\n",
       "      <th></th>\n",
       "      <th>name</th>\n",
       "    </tr>\n",
       "    <tr>\n",
       "      <th>type</th>\n",
       "      <th>commander_check</th>\n",
       "      <th></th>\n",
       "    </tr>\n",
       "  </thead>\n",
       "  <tbody>\n",
       "    <tr>\n",
       "      <th rowspan=\"2\" valign=\"top\">Artifact</th>\n",
       "      <th>Legal</th>\n",
       "      <td>1064</td>\n",
       "    </tr>\n",
       "    <tr>\n",
       "      <th>Restricted</th>\n",
       "      <td>58</td>\n",
       "    </tr>\n",
       "    <tr>\n",
       "      <th rowspan=\"2\" valign=\"top\">Artifact Creature — Angel</th>\n",
       "      <th>Legal</th>\n",
       "      <td>4</td>\n",
       "    </tr>\n",
       "    <tr>\n",
       "      <th>Restricted</th>\n",
       "      <td>1</td>\n",
       "    </tr>\n",
       "    <tr>\n",
       "      <th>Artifact Creature — Angel Warrior</th>\n",
       "      <th>Legal</th>\n",
       "      <td>1</td>\n",
       "    </tr>\n",
       "    <tr>\n",
       "      <th>Artifact Creature — Artificer</th>\n",
       "      <th>Legal</th>\n",
       "      <td>1</td>\n",
       "    </tr>\n",
       "    <tr>\n",
       "      <th>Artifact Creature — Assembly-Worker</th>\n",
       "      <th>Legal</th>\n",
       "      <td>7</td>\n",
       "    </tr>\n",
       "    <tr>\n",
       "      <th>Artifact Creature — Beast</th>\n",
       "      <th>Legal</th>\n",
       "      <td>8</td>\n",
       "    </tr>\n",
       "    <tr>\n",
       "      <th>Artifact Creature — Berserker</th>\n",
       "      <th>Legal</th>\n",
       "      <td>1</td>\n",
       "    </tr>\n",
       "    <tr>\n",
       "      <th>Artifact Creature — Bird</th>\n",
       "      <th>Legal</th>\n",
       "      <td>14</td>\n",
       "    </tr>\n",
       "  </tbody>\n",
       "</table>\n",
       "</div>"
      ],
      "text/plain": [
       "                                                     name\n",
       "type                                commander_check      \n",
       "Artifact                            Legal            1064\n",
       "                                    Restricted         58\n",
       "Artifact Creature — Angel           Legal               4\n",
       "                                    Restricted          1\n",
       "Artifact Creature — Angel Warrior   Legal               1\n",
       "Artifact Creature — Artificer       Legal               1\n",
       "Artifact Creature — Assembly-Worker Legal               7\n",
       "Artifact Creature — Beast           Legal               8\n",
       "Artifact Creature — Berserker       Legal               1\n",
       "Artifact Creature — Bird            Legal              14"
      ]
     },
     "execution_count": 25,
     "metadata": {},
     "output_type": "execute_result"
    }
   ],
   "source": [
    "card_types_by_commander = card_commander_types.groupby(['type', 'commander_check']).count()\n",
    "card_types_by_commander.head(10)"
   ]
  },
  {
   "cell_type": "code",
   "execution_count": 26,
   "metadata": {},
   "outputs": [
    {
     "name": "stdout",
     "output_type": "stream",
     "text": [
      "                                               name\n",
      "type                          commander_check      \n",
      "Sorcery                       Restricted        123\n",
      "Vanguard                      Restricted        107\n",
      "Instant                       Restricted         89\n",
      "Enchantment                   Restricted         65\n",
      "Artifact                      Restricted         58\n",
      "Scheme                        Restricted         58\n",
      "Artifact — Contraption        Restricted         45\n",
      "Conspiracy                    Restricted         25\n",
      "Enchantment — Aura            Restricted         19\n",
      "Land                          Restricted         17\n",
      "Hero                          Restricted         16\n",
      "Creature — Zombie             Restricted         13\n",
      "Ongoing Scheme                Restricted         12\n",
      "Creature — Elemental          Restricted          9\n",
      "Creature — Beast              Restricted          8\n",
      "Creature — Bird               Restricted          8\n",
      "Creature — Human Wizard       Restricted          8\n",
      "Plane — Ravnica               Restricted          8\n",
      "Phenomenon                    Restricted          8\n",
      "Plane — Dominaria             Restricted          7\n",
      "Artifact — Equipment          Restricted          7\n",
      "Creature — Human Cleric       Restricted          7\n",
      "Creature — Human Warrior      Restricted          7\n",
      "Creature — Spirit             Restricted          6\n",
      "Legendary Artifact            Restricted          6\n",
      "Artifact Creature — Construct Restricted          6\n",
      "Creature — Human Rogue        Restricted          6\n",
      "Creature — Goblin Rigger      Restricted          5\n",
      "Plane — Alara                 Restricted          5\n",
      "Creature — Dragon             Restricted          5\n"
     ]
    }
   ],
   "source": [
    "restricted_types = card_types_by_commander.loc[card_types_by_commander.index.get_level_values(\"commander_check\") == \"Restricted\"]\n",
    "restricted_types = restricted_types.sort_values(by=\"name\", ascending=False)\n",
    "print(restricted_types.head(30))"
   ]
  },
  {
   "cell_type": "code",
   "execution_count": 27,
   "metadata": {},
   "outputs": [
    {
     "data": {
      "image/png": "[encoded data removed]",
      "text/plain": [
       "<Figure size 720x360 with 1 Axes>"
      ]
     },
     "metadata": {},
     "output_type": "display_data"
    }
   ],
   "source": [
    "restricted_types.head(30).plot(kind=\"bar\")\n",
    "plt.title('Распределение карт, запрещенных в формате Commander, по типу', fontsize=22)\n",
    "plt.show();"
   ]
  },
  {
   "cell_type": "markdown",
   "metadata": {},
   "source": [
    "# 3. Топ-10 карт, не являющихся землями, которые были напечатаны в наибольшем количестве сетов."
   ]
  },
  {
   "cell_type": "markdown",
   "metadata": {},
   "source": [
    "### Я понял фразу были напечатаны в наибольшем количестве сетов как длина списка в признаке ***printings*** . Преобразуем признак в список"
   ]
  },
  {
   "cell_type": "code",
   "execution_count": 28,
   "metadata": {},
   "outputs": [],
   "source": [
    "df_no_dubs['printings'] = df_no_dubs['printings'].apply(lambda x: string_to_list(x))\n",
    "df_no_dubs['printings_count'] = df_no_dubs['printings'].apply(lambda x: len(x))"
   ]
  },
  {
   "cell_type": "code",
   "execution_count": 29,
   "metadata": {},
   "outputs": [],
   "source": [
    "card_type_print = df_no_dubs.loc[:, ['name', 'type', 'printings_count']]"
   ]
  },
  {
   "cell_type": "code",
   "execution_count": 30,
   "metadata": {},
   "outputs": [],
   "source": [
    "def land_or_not(x):\n",
    "    if 'Land' in x:\n",
    "        return True\n",
    "    else:\n",
    "        return False"
   ]
  },
  {
   "cell_type": "markdown",
   "metadata": {},
   "source": [
    "### Отдельный признак, является ли карта землей (Land) или нет"
   ]
  },
  {
   "cell_type": "code",
   "execution_count": 31,
   "metadata": {},
   "outputs": [],
   "source": [
    "card_type_print['land'] = card_type_print['type'].apply(lambda x: land_or_not(x))"
   ]
  },
  {
   "cell_type": "code",
   "execution_count": 32,
   "metadata": {},
   "outputs": [
    {
     "data": {
      "text/plain": [
       "False    23311\n",
       "True       810\n",
       "Name: land, dtype: int64"
      ]
     },
     "execution_count": 32,
     "metadata": {},
     "output_type": "execute_result"
    }
   ],
   "source": [
    "card_type_print['land'].value_counts()"
   ]
  },
  {
   "cell_type": "code",
   "execution_count": 33,
   "metadata": {},
   "outputs": [
    {
     "data": {
      "text/html": [
       "<div>\n",
       "<style scoped>\n",
       "    .dataframe tbody tr th:only-of-type {\n",
       "        vertical-align: middle;\n",
       "    }\n",
       "\n",
       "    .dataframe tbody tr th {\n",
       "        vertical-align: top;\n",
       "    }\n",
       "\n",
       "    .dataframe thead th {\n",
       "        text-align: right;\n",
       "    }\n",
       "</style>\n",
       "<table border=\"1\" class=\"dataframe\">\n",
       "  <thead>\n",
       "    <tr style=\"text-align: right;\">\n",
       "      <th></th>\n",
       "      <th>name</th>\n",
       "      <th>type</th>\n",
       "      <th>printings_count</th>\n",
       "      <th>land</th>\n",
       "    </tr>\n",
       "  </thead>\n",
       "  <tbody>\n",
       "    <tr>\n",
       "      <th>358</th>\n",
       "      <td>Giant Growth</td>\n",
       "      <td>Instant</td>\n",
       "      <td>47</td>\n",
       "      <td>False</td>\n",
       "    </tr>\n",
       "    <tr>\n",
       "      <th>562</th>\n",
       "      <td>Counterspell</td>\n",
       "      <td>Instant</td>\n",
       "      <td>46</td>\n",
       "      <td>False</td>\n",
       "    </tr>\n",
       "    <tr>\n",
       "      <th>53</th>\n",
       "      <td>Serra Angel</td>\n",
       "      <td>Creature — Angel</td>\n",
       "      <td>42</td>\n",
       "      <td>False</td>\n",
       "    </tr>\n",
       "    <tr>\n",
       "      <th>548</th>\n",
       "      <td>Swords to Plowshares</td>\n",
       "      <td>Instant</td>\n",
       "      <td>42</td>\n",
       "      <td>False</td>\n",
       "    </tr>\n",
       "    <tr>\n",
       "      <th>606</th>\n",
       "      <td>Dark Ritual</td>\n",
       "      <td>Instant</td>\n",
       "      <td>41</td>\n",
       "      <td>False</td>\n",
       "    </tr>\n",
       "    <tr>\n",
       "      <th>777</th>\n",
       "      <td>Sol Ring</td>\n",
       "      <td>Artifact</td>\n",
       "      <td>41</td>\n",
       "      <td>False</td>\n",
       "    </tr>\n",
       "    <tr>\n",
       "      <th>526</th>\n",
       "      <td>Disenchant</td>\n",
       "      <td>Instant</td>\n",
       "      <td>41</td>\n",
       "      <td>False</td>\n",
       "    </tr>\n",
       "    <tr>\n",
       "      <th>367</th>\n",
       "      <td>Llanowar Elves</td>\n",
       "      <td>Creature — Elf Druid</td>\n",
       "      <td>40</td>\n",
       "      <td>False</td>\n",
       "    </tr>\n",
       "    <tr>\n",
       "      <th>657</th>\n",
       "      <td>Fireball</td>\n",
       "      <td>Sorcery</td>\n",
       "      <td>35</td>\n",
       "      <td>False</td>\n",
       "    </tr>\n",
       "    <tr>\n",
       "      <th>93</th>\n",
       "      <td>Air Elemental</td>\n",
       "      <td>Creature — Elemental</td>\n",
       "      <td>33</td>\n",
       "      <td>False</td>\n",
       "    </tr>\n",
       "  </tbody>\n",
       "</table>\n",
       "</div>"
      ],
      "text/plain": [
       "                     name                  type  printings_count   land\n",
       "358          Giant Growth               Instant               47  False\n",
       "562          Counterspell               Instant               46  False\n",
       "53            Serra Angel      Creature — Angel               42  False\n",
       "548  Swords to Plowshares               Instant               42  False\n",
       "606           Dark Ritual               Instant               41  False\n",
       "777              Sol Ring              Artifact               41  False\n",
       "526            Disenchant               Instant               41  False\n",
       "367        Llanowar Elves  Creature — Elf Druid               40  False\n",
       "657              Fireball               Sorcery               35  False\n",
       "93          Air Elemental  Creature — Elemental               33  False"
      ]
     },
     "execution_count": 33,
     "metadata": {},
     "output_type": "execute_result"
    }
   ],
   "source": [
    "card_type_print[card_type_print['land'] == False].sort_values('printings_count', ascending=False).head(10)"
   ]
  },
  {
   "cell_type": "markdown",
   "metadata": {},
   "source": [
    "## Итого в топ 10 карт, не являющимися землями и напечатанными в наибольшем количества сетов, входит:\n",
    "   * Giant Growth\n",
    "   * Counterspell\n",
    "   * Serra Angel\n",
    "   * Swords to Plowshares\n",
    "   * Dark Ritual\n",
    "   * Sol Ring\t\n",
    "   * Disenchant\n",
    "   * Llanowar Elves\n",
    "   * Fireball\n",
    "   * Air Elemental"
   ]
  },
  {
   "cell_type": "markdown",
   "metadata": {},
   "source": [
    "# 4. Для карт, не являющихся землями, определите, какая часть из них даёт ману с помощью своего эффекта. Покажите распределение по типу маны, который дают эти карты. "
   ]
  },
  {
   "cell_type": "markdown",
   "metadata": {},
   "source": [
    "### Так и понял как определить, что карта дает ману с помощью своего эффекта. В каком именно признаке описаны эффекты карт мне тоже не понятно. Попытался поискать, оказалось все не так просто. В каждой карте должно быть прописано может ли она давать ману. На Kaggle нет описания данных, впервые столкнулся с этой игрой"
   ]
  },
  {
   "cell_type": "code",
   "execution_count": 34,
   "metadata": {},
   "outputs": [
    {
     "name": "stdout",
     "output_type": "stream",
     "text": [
      "<class 'pandas.core.frame.DataFrame'>\n",
      "Int64Index: 24121 entries, 0 to 66611\n",
      "Data columns (total 42 columns):\n",
      " #   Column           Non-Null Count  Dtype  \n",
      "---  ------           --------------  -----  \n",
      " 0   name             24121 non-null  object \n",
      " 1   multiverse_id    21390 non-null  float64\n",
      " 2   layout           24121 non-null  object \n",
      " 3   names            0 non-null      float64\n",
      " 4   mana_cost        22895 non-null  object \n",
      " 5   cmc              24121 non-null  float64\n",
      " 6   colors           20728 non-null  object \n",
      " 7   color_identity   21630 non-null  object \n",
      " 8   type             24121 non-null  object \n",
      " 9   supertypes       2016 non-null   object \n",
      " 10  subtypes         15107 non-null  object \n",
      " 11  rarity           24121 non-null  object \n",
      " 12  text             23780 non-null  object \n",
      " 13  flavor           14555 non-null  object \n",
      " 14  artist           24120 non-null  object \n",
      " 15  number           24121 non-null  object \n",
      " 16  power            12898 non-null  object \n",
      " 17  toughness        12898 non-null  object \n",
      " 18  loyalty          261 non-null    object \n",
      " 19  variations       1718 non-null   object \n",
      " 20  watermark        2191 non-null   object \n",
      " 21  border           0 non-null      float64\n",
      " 22  timeshifted      0 non-null      float64\n",
      " 23  hand             107 non-null    float64\n",
      " 24  life             107 non-null    float64\n",
      " 25  reserved         0 non-null      float64\n",
      " 26  release_date     0 non-null      float64\n",
      " 27  starter          0 non-null      float64\n",
      " 28  rulings          13430 non-null  object \n",
      " 29  foreign_names    19607 non-null  object \n",
      " 30  printings        24121 non-null  object \n",
      " 31  original_text    21075 non-null  object \n",
      " 32  original_type    21388 non-null  object \n",
      " 33  legalities       24121 non-null  object \n",
      " 34  source           0 non-null      float64\n",
      " 35  image_url        21390 non-null  object \n",
      " 36  set              24121 non-null  object \n",
      " 37  set_name         24121 non-null  object \n",
      " 38  id               24121 non-null  object \n",
      " 39  color_category   24121 non-null  object \n",
      " 40  commander_check  24121 non-null  object \n",
      " 41  printings_count  24121 non-null  int64  \n",
      "dtypes: float64(11), int64(1), object(30)\n",
      "memory usage: 8.4+ MB\n"
     ]
    }
   ],
   "source": [
    "df_no_dubs.info()"
   ]
  },
  {
   "cell_type": "code",
   "execution_count": 35,
   "metadata": {},
   "outputs": [
    {
     "data": {
      "text/html": [
       "<div>\n",
       "<style scoped>\n",
       "    .dataframe tbody tr th:only-of-type {\n",
       "        vertical-align: middle;\n",
       "    }\n",
       "\n",
       "    .dataframe tbody tr th {\n",
       "        vertical-align: top;\n",
       "    }\n",
       "\n",
       "    .dataframe thead th {\n",
       "        text-align: right;\n",
       "    }\n",
       "</style>\n",
       "<table border=\"1\" class=\"dataframe\">\n",
       "  <thead>\n",
       "    <tr style=\"text-align: right;\">\n",
       "      <th></th>\n",
       "      <th>mana_cost</th>\n",
       "      <th>color_category</th>\n",
       "    </tr>\n",
       "  </thead>\n",
       "  <tbody>\n",
       "    <tr>\n",
       "      <th>0</th>\n",
       "      <td>{5}{W}{W}</td>\n",
       "      <td>'W'</td>\n",
       "    </tr>\n",
       "    <tr>\n",
       "      <th>2</th>\n",
       "      <td>{4}{W}</td>\n",
       "      <td>'W'</td>\n",
       "    </tr>\n",
       "    <tr>\n",
       "      <th>4</th>\n",
       "      <td>{2}{W}</td>\n",
       "      <td>'W'</td>\n",
       "    </tr>\n",
       "    <tr>\n",
       "      <th>6</th>\n",
       "      <td>{3}{W}{W}</td>\n",
       "      <td>'W'</td>\n",
       "    </tr>\n",
       "    <tr>\n",
       "      <th>7</th>\n",
       "      <td>{1}{W}</td>\n",
       "      <td>'W'</td>\n",
       "    </tr>\n",
       "    <tr>\n",
       "      <th>...</th>\n",
       "      <td>...</td>\n",
       "      <td>...</td>\n",
       "    </tr>\n",
       "    <tr>\n",
       "      <th>66607</th>\n",
       "      <td>{2}</td>\n",
       "      <td>nan</td>\n",
       "    </tr>\n",
       "    <tr>\n",
       "      <th>66608</th>\n",
       "      <td>{2}</td>\n",
       "      <td>nan</td>\n",
       "    </tr>\n",
       "    <tr>\n",
       "      <th>66609</th>\n",
       "      <td>{1}</td>\n",
       "      <td>nan</td>\n",
       "    </tr>\n",
       "    <tr>\n",
       "      <th>66610</th>\n",
       "      <td>NaN</td>\n",
       "      <td>nan</td>\n",
       "    </tr>\n",
       "    <tr>\n",
       "      <th>66611</th>\n",
       "      <td>NaN</td>\n",
       "      <td>nan</td>\n",
       "    </tr>\n",
       "  </tbody>\n",
       "</table>\n",
       "<p>24121 rows × 2 columns</p>\n",
       "</div>"
      ],
      "text/plain": [
       "       mana_cost color_category\n",
       "0      {5}{W}{W}            'W'\n",
       "2         {4}{W}            'W'\n",
       "4         {2}{W}            'W'\n",
       "6      {3}{W}{W}            'W'\n",
       "7         {1}{W}            'W'\n",
       "...          ...            ...\n",
       "66607        {2}            nan\n",
       "66608        {2}            nan\n",
       "66609        {1}            nan\n",
       "66610        NaN            nan\n",
       "66611        NaN            nan\n",
       "\n",
       "[24121 rows x 2 columns]"
      ]
     },
     "execution_count": 35,
     "metadata": {},
     "output_type": "execute_result"
    }
   ],
   "source": [
    "df_no_dubs[['mana_cost', 'color_category']]"
   ]
  },
  {
   "cell_type": "code",
   "execution_count": 36,
   "metadata": {},
   "outputs": [
    {
     "data": {
      "text/plain": [
       "\"[{'date': '2004-10-04', 'text': 'Aura of Silence affects all opponents in a multiplayer game.'}]\""
      ]
     },
     "execution_count": 36,
     "metadata": {},
     "output_type": "execute_result"
    }
   ],
   "source": [
    "df_no_dubs['rulings'].dropna().loc[9]"
   ]
  },
  {
   "cell_type": "code",
   "execution_count": null,
   "metadata": {},
   "outputs": [],
   "source": []
  }
 ],
 "metadata": {
  "kernelspec": {
   "display_name": "Python 3",
   "language": "python",
   "name": "python3"
  },
  "language_info": {
   "codemirror_mode": {
    "name": "ipython",
    "version": 3
   },
   "file_extension": ".py",
   "mimetype": "text/x-python",
   "name": "python",
   "nbconvert_exporter": "python",
   "pygments_lexer": "ipython3",
   "version": "3.8.8"
  }
 },
 "nbformat": 4,
 "nbformat_minor": 4
}
